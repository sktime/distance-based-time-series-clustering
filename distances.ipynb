{
 "cells": [
  {
   "cell_type": "code",
   "execution_count": 1,
   "outputs": [],
   "source": [
    "import time\n",
    "import warnings\n",
    "\n",
    "import numpy as np\n",
    "\n",
    "warnings.filterwarnings('ignore') # Hide warnings that can generate and clutter notebook\n",
    "\n",
    "\n",
    "def timing_experiment(x, y, distance_callable, distance_params = None, average=30):\n",
    "    \"\"\"Time the average time it takes to take the distance from the first time series\n",
    "    to all of the other time series in X.\n",
    "\n",
    "    Parameters\n",
    "    ----------\n",
    "    X: np.ndarray\n",
    "        A dataset of time series.\n",
    "    distance_callable: Callable\n",
    "        A callable that is the distance function to time.\n",
    "\n",
    "    Returns\n",
    "    -------\n",
    "    float\n",
    "        Average time it took to run a distance\n",
    "    \"\"\"\n",
    "    if distance_params is None:\n",
    "        distance_params = {}\n",
    "    total_time = 0\n",
    "    for i in range(0, average):\n",
    "        start = time.time()\n",
    "        curr_dist = distance_callable(x, y, **distance_params)\n",
    "        total_time += time.time() - start\n",
    "\n",
    "    return total_time / average\n"
   ],
   "metadata": {
    "collapsed": false,
    "pycharm": {
     "name": "#%%\n"
    }
   }
  },
  {
   "cell_type": "code",
   "execution_count": null,
   "outputs": [],
   "source": [
    "from sktime.distances.tests._utils import create_test_distance_numpy\n",
    "\n",
    "from sktime.distances import distance_factory\n",
    "from tslearn.metrics import dtw as tslearn_dtw\n",
    "from dtw import dtw as dtw_python_dtw\n",
    "from rust_dtw import dtw as rust_dtw_dtw\n",
    "import pandas as pd\n",
    "\n",
    "sktime_timing = []\n",
    "tslearn_timing = []\n",
    "dtw_python_timing = []\n",
    "rust_dtw_timing = []\n",
    "numba_sktime_timing = []\n",
    "\n",
    "col_headers = []\n",
    "\n",
    "univariate_timings_df = None\n",
    "\n",
    "def univariate_experiment():\n",
    "    increment_timepoints = 1000\n",
    "    starting_num_timepoints = 1000\n",
    "    ending_num_timepoints = 10000\n",
    "\n",
    "    for i in range(starting_num_timepoints, ending_num_timepoints + increment_timepoints, increment_timepoints):\n",
    "        col_headers.append(i)\n",
    "        distance_m_d = create_test_distance_numpy(2, 1, i)\n",
    "\n",
    "        x = distance_m_d[0][0]\n",
    "        y = distance_m_d[1][0]\n",
    "        numba_sktime = distance_factory(x, y, metric='dtw')\n",
    "\n",
    "        tslearn_time = timing_experiment(x, y, tslearn_dtw)\n",
    "        dtw_python_time = timing_experiment(x, y, dtw_python_dtw)\n",
    "        rust_dtw_time = timing_experiment(x, y, rust_dtw_dtw, {'window':i, 'distance_mode': 'euclidean'})\n",
    "        sktime_time = timing_experiment(distance_m_d[0], distance_m_d[1], numba_sktime)\n",
    "\n",
    "        sktime_timing.append(sktime_time)\n",
    "        tslearn_timing.append(tslearn_time)\n",
    "        dtw_python_timing.append(dtw_python_time)\n",
    "        rust_dtw_timing.append(rust_dtw_time)\n",
    "\n",
    "\n",
    "    uni_df = pd.DataFrame({\n",
    "        'time points': col_headers,\n",
    "        'sktime': sktime_timing,\n",
    "        'tslearn': tslearn_timing,\n",
    "        'rust-dtw': rust_dtw_timing,\n",
    "        'dtw-python': dtw_python_timing\n",
    "    })\n",
    "    return uni_df\n",
    "\n",
    "univariate_timings_df = univariate_experiment()"
   ],
   "metadata": {
    "collapsed": false,
    "pycharm": {
     "name": "#%%\n"
    }
   }
  },
  {
   "cell_type": "code",
   "execution_count": null,
   "outputs": [],
   "source": [
    "from sktime.distances.tests._utils import create_test_distance_numpy\n",
    "\n",
    "from sktime.distances import distance_factory\n",
    "from tslearn.metrics import dtw as tslearn_dtw\n",
    "import pandas as pd\n",
    "\n",
    "multivariate_timings_df = None\n",
    "\n",
    "sktime_timing = []\n",
    "tslearn_timing = []\n",
    "\n",
    "col_headers = []\n",
    "\n",
    "def multivariate_experiment():\n",
    "    increment_timepoints = 100\n",
    "    starting_num_timepoints = 100\n",
    "    ending_num_timepoints = 500\n",
    "\n",
    "    for i in range(starting_num_timepoints, ending_num_timepoints + increment_timepoints, increment_timepoints):\n",
    "        col_headers.append(i)\n",
    "        distance_m_d = create_test_distance_numpy(2, i, i)\n",
    "\n",
    "        x = distance_m_d[0]\n",
    "        y = distance_m_d[1]\n",
    "        tslearn_x = x.reshape((x.shape[1], x.shape[0])) # tslearn wants m, d format\n",
    "        tslearn_y = y.reshape((y.shape[1], y.shape[0])) # tslearn wants m, d format\n",
    "        numba_sktime = distance_factory(x, y, metric='dtw')\n",
    "\n",
    "        tslearn_time = timing_experiment(tslearn_x, tslearn_y, tslearn_dtw)\n",
    "        sktime_time = timing_experiment(x, y, numba_sktime)\n",
    "\n",
    "        sktime_timing.append(sktime_time)\n",
    "        tslearn_timing.append(tslearn_time)\n",
    "\n",
    "\n",
    "    multi_df = pd.DataFrame({\n",
    "        'time points': col_headers,\n",
    "        'sktime': sktime_timing,\n",
    "        'tslearn': tslearn_timing,\n",
    "    })\n",
    "    return multi_df\n",
    "\n",
    "multivariate_timings_df = multivariate_experiment()"
   ],
   "metadata": {
    "collapsed": false,
    "pycharm": {
     "name": "#%%\n"
    }
   }
  },
  {
   "cell_type": "code",
   "execution_count": null,
   "outputs": [],
   "source": [
    "print(univariate_timings_df)"
   ],
   "metadata": {
    "collapsed": false,
    "pycharm": {
     "name": "#%%\n"
    }
   }
  },
  {
   "cell_type": "code",
   "execution_count": null,
   "outputs": [],
   "source": [
    "print(multivariate_timings_df)"
   ],
   "metadata": {
    "collapsed": false,
    "pycharm": {
     "name": "#%%\n"
    }
   }
  },
  {
   "cell_type": "code",
   "execution_count": 20,
   "outputs": [
    {
     "name": "stdout",
     "output_type": "stream",
     "text": [
      "sktime result:  1.9081086144057442\n",
      "tslearn result 1.9081086144057442\n",
      "rust-dtw result 1.9081086144057442\n",
      "dtw-python result 10.222175276151889\n"
     ]
    }
   ],
   "source": [
    "from sktime.distances.tests._utils import create_test_distance_numpy\n",
    "\n",
    "from sktime.distances import dtw_distance\n",
    "from tslearn.metrics import dtw as tslearn_dtw\n",
    "from dtw import dtw as dtw_python_dtw\n",
    "from rust_dtw import dtw as rust_dtw_dtw\n",
    "import pandas as pd\n",
    "import numpy as np\n",
    "\n",
    "uni_size = 20\n",
    "x_uni = create_test_distance_numpy(uni_size)\n",
    "y_uni = create_test_distance_numpy(uni_size, random_state=2)\n",
    "\n",
    "sktime_result = np.sqrt(dtw_distance(x_uni, y_uni)) # It is sqrt as isn't done in the distance\n",
    "tslearn_result = tslearn_dtw(x_uni, y_uni)\n",
    "rust_dtw_result = rust_dtw_dtw(x_uni, y_uni, window=uni_size, distance_mode='euclidean')\n",
    "dtw_python_result = dtw_python_dtw(x_uni, y_uni)\n",
    "\n",
    "print('sktime result: ', sktime_result)\n",
    "print('tslearn result', tslearn_result)\n",
    "print('rust-dtw result', rust_dtw_result)\n",
    "print('dtw-python result', dtw_python_result.distance)"
   ],
   "metadata": {
    "collapsed": false,
    "pycharm": {
     "name": "#%%\n"
    }
   }
  },
  {
   "cell_type": "code",
   "execution_count": null,
   "outputs": [],
   "source": [],
   "metadata": {
    "collapsed": false,
    "pycharm": {
     "name": "#%%\n"
    }
   }
  }
 ],
 "metadata": {
  "kernelspec": {
   "display_name": "Python 3",
   "language": "python",
   "name": "python3"
  },
  "language_info": {
   "codemirror_mode": {
    "name": "ipython",
    "version": 2
   },
   "file_extension": ".py",
   "mimetype": "text/x-python",
   "name": "python",
   "nbconvert_exporter": "python",
   "pygments_lexer": "ipython2",
   "version": "2.7.6"
  }
 },
 "nbformat": 4,
 "nbformat_minor": 0
}