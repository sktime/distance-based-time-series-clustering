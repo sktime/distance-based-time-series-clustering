{
 "cells": [
  {
   "cell_type": "code",
   "execution_count": 1,
   "outputs": [
    {
     "ename": "ModuleNotFoundError",
     "evalue": "No module named 'sktime'",
     "output_type": "error",
     "traceback": [
      "\u001B[1;31m---------------------------------------------------------------------------\u001B[0m",
      "\u001B[1;31mModuleNotFoundError\u001B[0m                       Traceback (most recent call last)",
      "Input \u001B[1;32mIn [1]\u001B[0m, in \u001B[0;36m<cell line: 1>\u001B[1;34m()\u001B[0m\n\u001B[1;32m----> 1\u001B[0m \u001B[38;5;28;01mfrom\u001B[39;00m \u001B[38;5;21;01msktime\u001B[39;00m\u001B[38;5;21;01m.\u001B[39;00m\u001B[38;5;21;01mdatasets\u001B[39;00m \u001B[38;5;28;01mimport\u001B[39;00m load_acsf1\n\u001B[0;32m      3\u001B[0m X_train_uni, y_train_uni \u001B[38;5;241m=\u001B[39m load_acsf1(split\u001B[38;5;241m=\u001B[39m\u001B[38;5;124m'\u001B[39m\u001B[38;5;124mtrain\u001B[39m\u001B[38;5;124m'\u001B[39m) \u001B[38;5;66;03m# Load the training instances  of acsf1\u001B[39;00m\n\u001B[0;32m      4\u001B[0m X_train_uni\u001B[38;5;241m.\u001B[39mhead()\n",
      "\u001B[1;31mModuleNotFoundError\u001B[0m: No module named 'sktime'"
     ]
    }
   ],
   "source": [
    "from sktime.datasets import load_acsf1\n",
    "\n",
    "X_train_uni, y_train_uni = load_acsf1(split='train') # Load the training instances  of acsf1\n",
    "X_train_uni.head()"
   ],
   "metadata": {
    "collapsed": false,
    "pycharm": {
     "name": "#%%\n"
    }
   }
  },
  {
   "cell_type": "code",
   "execution_count": 3,
   "outputs": [
    {
     "data": {
      "text/plain": "                                               dim_0  \\\n0  0     0.079106\n1     0.079106\n2    -0.903497\n3...   \n1  0     0.377751\n1     0.377751\n2     2.952965\n3...   \n2  0    -0.813905\n1    -0.813905\n2    -0.424628\n3...   \n3  0     0.289855\n1     0.289855\n2    -0.669185\n3...   \n4  0    -0.123238\n1    -0.123238\n2    -0.249547\n3...   \n\n                                               dim_1  \\\n0  0     0.394032\n1     0.394032\n2    -3.666397\n3...   \n1  0    -0.610850\n1    -0.610850\n2     0.970717\n3...   \n2  0     0.825666\n1     0.825666\n2    -1.305033\n3...   \n3  0     0.284130\n1     0.284130\n2    -0.210466\n3...   \n4  0     0.379341\n1     0.379341\n2     0.541501\n3...   \n\n                                               dim_2  \\\n0  0     0.551444\n1     0.551444\n2    -0.282844\n3...   \n1  0    -0.147376\n1    -0.147376\n2    -5.962515\n3...   \n2  0     0.032712\n1     0.032712\n2     0.826170\n3...   \n3  0     0.213680\n1     0.213680\n2     0.252267\n3...   \n4  0    -0.286006\n1    -0.286006\n2     0.208420\n3...   \n\n                                               dim_3  \\\n0  0     0.351565\n1     0.351565\n2    -0.095881\n3...   \n1  0    -0.103872\n1    -0.103872\n2    -7.593275\n3...   \n2  0     0.021307\n1     0.021307\n2    -0.372872\n3...   \n3  0    -0.314278\n1    -0.314278\n2     0.018644\n3...   \n4  0    -0.098545\n1    -0.098545\n2    -0.023970\n3...   \n\n                                               dim_4  \\\n0  0     0.023970\n1     0.023970\n2    -0.319605\n3...   \n1  0    -0.109198\n1    -0.109198\n2    -0.697804\n3...   \n2  0     0.122515\n1     0.122515\n2    -0.045277\n3...   \n3  0     0.074574\n1     0.074574\n2     0.007990\n3...   \n4  0     0.058594\n1     0.058594\n2     0.175783\n3...   \n\n                                               dim_5  \n0  0     0.633883\n1     0.633883\n2     0.972131\n3...  \n1  0    -0.037287\n1    -0.037287\n2    -2.865789\n3...  \n2  0     0.775041\n1     0.775041\n2     0.383526\n3...  \n3  0    -0.079901\n1    -0.079901\n2     0.237040\n3...  \n4  0    -0.074574\n1    -0.074574\n2     0.114525\n3...  ",
      "text/html": "<div>\n<style scoped>\n    .dataframe tbody tr th:only-of-type {\n        vertical-align: middle;\n    }\n\n    .dataframe tbody tr th {\n        vertical-align: top;\n    }\n\n    .dataframe thead th {\n        text-align: right;\n    }\n</style>\n<table border=\"1\" class=\"dataframe\">\n  <thead>\n    <tr style=\"text-align: right;\">\n      <th></th>\n      <th>dim_0</th>\n      <th>dim_1</th>\n      <th>dim_2</th>\n      <th>dim_3</th>\n      <th>dim_4</th>\n      <th>dim_5</th>\n    </tr>\n  </thead>\n  <tbody>\n    <tr>\n      <th>0</th>\n      <td>0     0.079106\n1     0.079106\n2    -0.903497\n3...</td>\n      <td>0     0.394032\n1     0.394032\n2    -3.666397\n3...</td>\n      <td>0     0.551444\n1     0.551444\n2    -0.282844\n3...</td>\n      <td>0     0.351565\n1     0.351565\n2    -0.095881\n3...</td>\n      <td>0     0.023970\n1     0.023970\n2    -0.319605\n3...</td>\n      <td>0     0.633883\n1     0.633883\n2     0.972131\n3...</td>\n    </tr>\n    <tr>\n      <th>1</th>\n      <td>0     0.377751\n1     0.377751\n2     2.952965\n3...</td>\n      <td>0    -0.610850\n1    -0.610850\n2     0.970717\n3...</td>\n      <td>0    -0.147376\n1    -0.147376\n2    -5.962515\n3...</td>\n      <td>0    -0.103872\n1    -0.103872\n2    -7.593275\n3...</td>\n      <td>0    -0.109198\n1    -0.109198\n2    -0.697804\n3...</td>\n      <td>0    -0.037287\n1    -0.037287\n2    -2.865789\n3...</td>\n    </tr>\n    <tr>\n      <th>2</th>\n      <td>0    -0.813905\n1    -0.813905\n2    -0.424628\n3...</td>\n      <td>0     0.825666\n1     0.825666\n2    -1.305033\n3...</td>\n      <td>0     0.032712\n1     0.032712\n2     0.826170\n3...</td>\n      <td>0     0.021307\n1     0.021307\n2    -0.372872\n3...</td>\n      <td>0     0.122515\n1     0.122515\n2    -0.045277\n3...</td>\n      <td>0     0.775041\n1     0.775041\n2     0.383526\n3...</td>\n    </tr>\n    <tr>\n      <th>3</th>\n      <td>0     0.289855\n1     0.289855\n2    -0.669185\n3...</td>\n      <td>0     0.284130\n1     0.284130\n2    -0.210466\n3...</td>\n      <td>0     0.213680\n1     0.213680\n2     0.252267\n3...</td>\n      <td>0    -0.314278\n1    -0.314278\n2     0.018644\n3...</td>\n      <td>0     0.074574\n1     0.074574\n2     0.007990\n3...</td>\n      <td>0    -0.079901\n1    -0.079901\n2     0.237040\n3...</td>\n    </tr>\n    <tr>\n      <th>4</th>\n      <td>0    -0.123238\n1    -0.123238\n2    -0.249547\n3...</td>\n      <td>0     0.379341\n1     0.379341\n2     0.541501\n3...</td>\n      <td>0    -0.286006\n1    -0.286006\n2     0.208420\n3...</td>\n      <td>0    -0.098545\n1    -0.098545\n2    -0.023970\n3...</td>\n      <td>0     0.058594\n1     0.058594\n2     0.175783\n3...</td>\n      <td>0    -0.074574\n1    -0.074574\n2     0.114525\n3...</td>\n    </tr>\n  </tbody>\n</table>\n</div>"
     },
     "execution_count": 3,
     "metadata": {},
     "output_type": "execute_result"
    }
   ],
   "source": [
    "from sktime.datasets import load_basic_motions\n",
    "\n",
    "X_train_multi, y_train_multi = load_basic_motions(split='train') # Load the training instances of basic motion\n",
    "X_train_multi.head()"
   ],
   "metadata": {
    "collapsed": false,
    "pycharm": {
     "name": "#%%\n"
    }
   }
  },
  {
   "cell_type": "code",
   "execution_count": 4,
   "outputs": [],
   "source": [
    "from sktime.datatypes import convert_to\n",
    "import warnings\n",
    "warnings.filterwarnings('ignore') # Hide warnings that can generate and clutter notebook\n",
    "\n",
    "X_train_uni_np = convert_to(X_train_uni, 'numpy3D') # Convert dataframe to numpy\n",
    "X_train_multi_np = convert_to(X_train_multi, 'numpy3D') # Convert dataframe to numpy\n",
    "\n",
    "n_uni, d_uni, m_uni = X_train_uni_np.shape # The original shape is n, d, m\n",
    "X_train_uni_d_m = X_train_uni_np.copy() # Used for libraries (sktime) that want d, m\n",
    "X_train_uni_m_d = X_train_uni_np.reshape((n_uni, m_uni, d_uni)) # Used for libraries that want m, d\n",
    "\n",
    "n_multi, d_multi, m_multi = X_train_multi_np.shape # The original shape is n, d, m\n",
    "X_train_multi_d_m = X_train_multi_np.copy() # Used for libraries (sktime) that want d, m\n",
    "X_train_multi_m_d = X_train_multi_np.reshape((n_multi, m_multi, d_multi)) # User for libraries that want m, d"
   ],
   "metadata": {
    "collapsed": false,
    "pycharm": {
     "name": "#%%\n"
    }
   }
  },
  {
   "cell_type": "code",
   "execution_count": 17,
   "outputs": [],
   "source": [
    "import time\n",
    "from dtw import DTW as dtw_python_DTW\n",
    "\n",
    "def timing_experiment(X, distance_callable, distance_params = None):\n",
    "    \"\"\"Time the average time it takes to take the distance from the first time series\n",
    "    to all of the other time series in X.\n",
    "\n",
    "    Parameters\n",
    "    ----------\n",
    "    X: np.ndarray\n",
    "        A dataset of time series.\n",
    "    distance_callable: Callable\n",
    "        A callable that is the distance function to time.\n",
    "\n",
    "    Returns\n",
    "    -------\n",
    "    float\n",
    "        Average time it took to run a distance\n",
    "    list[float]\n",
    "        List of floats containing the distances.\n",
    "    \"\"\"\n",
    "    if distance_params is None:\n",
    "        distance_params = {}\n",
    "    first_val = X[0]\n",
    "    total_time = 0\n",
    "    distances = []\n",
    "    for val in X:\n",
    "        start = time.time()\n",
    "        curr_dist = distance_callable(first_val, val, **distance_params)\n",
    "        total_time += time.time() - start\n",
    "        if isinstance(curr_dist, dtw_python_DTW):\n",
    "            curr_dist = curr_dist.distance\n",
    "        distances.append(curr_dist)\n",
    "\n",
    "    return total_time / len(X), distances"
   ],
   "metadata": {
    "collapsed": false,
    "pycharm": {
     "name": "#%%\n"
    }
   }
  },
  {
   "cell_type": "code",
   "execution_count": 18,
   "outputs": [
    {
     "name": "stdout",
     "output_type": "stream",
     "text": [
      "0.14548295974731446\n",
      "0.006346142292022705\n"
     ]
    }
   ],
   "source": [
    "from sktime.distances import dtw_distance as sktime_dtw\n",
    "sktime_uni_time, sktime_uni_distances = timing_experiment(X_train_uni_d_m, sktime_dtw)\n",
    "sktime_multi_time, sktime_multi_distances = timing_experiment(X_train_multi_d_m, sktime_dtw)\n",
    "print(sktime_uni_time)\n",
    "print(sktime_multi_time)"
   ],
   "metadata": {
    "collapsed": false,
    "pycharm": {
     "name": "#%%\n"
    }
   }
  },
  {
   "cell_type": "code",
   "execution_count": 19,
   "outputs": [
    {
     "name": "stdout",
     "output_type": "stream",
     "text": [
      "0.01870164155960083\n",
      "0.00010004639625549316\n"
     ]
    }
   ],
   "source": [
    "from tslearn.metrics import dtw as tslearn_dtw\n",
    "tslearn_uni_time, tslearn_uni_distances = timing_experiment(X_train_uni_m_d, tslearn_dtw)\n",
    "tslearn_multi_time, tslearn_multi_distances = timing_experiment(X_train_multi_m_d, tslearn_dtw)\n",
    "print(tslearn_uni_time)\n",
    "print(tslearn_multi_time)"
   ],
   "metadata": {
    "collapsed": false,
    "pycharm": {
     "name": "#%%\n"
    }
   }
  },
  {
   "cell_type": "code",
   "execution_count": 20,
   "outputs": [
    {
     "name": "stdout",
     "output_type": "stream",
     "text": [
      "0.07066751718521118\n",
      "0.0701207971572876\n"
     ]
    }
   ],
   "source": [
    "from dtw import dtw as dtw_python_dtw\n",
    "dtw_python_uni_time, dtw_python_uni_distances = timing_experiment(X_train_uni_d_m, dtw_python_dtw)\n",
    "dtw_python_multi_time, dtw_python_multi_distances = timing_experiment(X_train_uni_d_m, dtw_python_dtw)\n",
    "print(dtw_python_uni_time)\n",
    "print(dtw_python_multi_time)"
   ],
   "metadata": {
    "collapsed": false,
    "pycharm": {
     "name": "#%%\n"
    }
   }
  },
  {
   "cell_type": "code",
   "execution_count": 25,
   "outputs": [
    {
     "ename": "TypeError",
     "evalue": "argument 's': Shape Mismatch:\n from=(dim=2, dtype=Float64), to=(dim=1, dtype=Float64)",
     "output_type": "error",
     "traceback": [
      "\u001B[1;31m---------------------------------------------------------------------------\u001B[0m",
      "\u001B[1;31mTypeError\u001B[0m                                 Traceback (most recent call last)",
      "Input \u001B[1;32mIn [25]\u001B[0m, in \u001B[0;36m<cell line: 2>\u001B[1;34m()\u001B[0m\n\u001B[0;32m      1\u001B[0m \u001B[38;5;28;01mfrom\u001B[39;00m \u001B[38;5;21;01mrust_dtw\u001B[39;00m \u001B[38;5;28;01mimport\u001B[39;00m dtw \u001B[38;5;28;01mas\u001B[39;00m rust_dtw_dtw\n\u001B[1;32m----> 2\u001B[0m dtw_c_uni_time, dtw_dtai_uni_distances \u001B[38;5;241m=\u001B[39m \u001B[43mtiming_experiment\u001B[49m\u001B[43m(\u001B[49m\u001B[43mX_train_uni_d_m\u001B[49m\u001B[43m,\u001B[49m\u001B[43m \u001B[49m\u001B[43mrust_dtw_dtw\u001B[49m\u001B[43m,\u001B[49m\u001B[43m \u001B[49m\u001B[43mdistance_params\u001B[49m\u001B[38;5;241;43m=\u001B[39;49m\u001B[43m{\u001B[49m\u001B[38;5;124;43m\"\u001B[39;49m\u001B[38;5;124;43mwindow\u001B[39;49m\u001B[38;5;124;43m\"\u001B[39;49m\u001B[43m:\u001B[49m\u001B[43m \u001B[49m\u001B[43mX_train_uni_d_m\u001B[49m\u001B[38;5;241;43m.\u001B[39;49m\u001B[43mshape\u001B[49m\u001B[43m[\u001B[49m\u001B[38;5;241;43m1\u001B[39;49m\u001B[43m]\u001B[49m\u001B[43m,\u001B[49m\u001B[43m \u001B[49m\u001B[38;5;124;43m\"\u001B[39;49m\u001B[38;5;124;43mdistance_mode\u001B[39;49m\u001B[38;5;124;43m\"\u001B[39;49m\u001B[43m:\u001B[49m\u001B[43m \u001B[49m\u001B[38;5;124;43m\"\u001B[39;49m\u001B[38;5;124;43meuclidean\u001B[39;49m\u001B[38;5;124;43m\"\u001B[39;49m\u001B[43m}\u001B[49m\u001B[43m)\u001B[49m\n\u001B[0;32m      3\u001B[0m \u001B[38;5;66;03m# dtw_c_multi_time, dtw_dtai_multi_distances = timing_experiment(X_train_uni_d_m, rust_dtw_dtw, distance_params={\"window\": X_train_uni_d_m.shape[1], \"distance_mode\": \"euclidean\"})\u001B[39;00m\n\u001B[0;32m      4\u001B[0m \u001B[38;5;28mprint\u001B[39m(dtw_c_uni_time)\n",
      "Input \u001B[1;32mIn [17]\u001B[0m, in \u001B[0;36mtiming_experiment\u001B[1;34m(X, distance_callable, distance_params)\u001B[0m\n\u001B[0;32m     27\u001B[0m \u001B[38;5;28;01mfor\u001B[39;00m val \u001B[38;5;129;01min\u001B[39;00m X:\n\u001B[0;32m     28\u001B[0m     start \u001B[38;5;241m=\u001B[39m time\u001B[38;5;241m.\u001B[39mtime()\n\u001B[1;32m---> 29\u001B[0m     curr_dist \u001B[38;5;241m=\u001B[39m distance_callable(first_val, val, \u001B[38;5;241m*\u001B[39m\u001B[38;5;241m*\u001B[39mdistance_params)\n\u001B[0;32m     30\u001B[0m     total_time \u001B[38;5;241m+\u001B[39m\u001B[38;5;241m=\u001B[39m time\u001B[38;5;241m.\u001B[39mtime() \u001B[38;5;241m-\u001B[39m start\n\u001B[0;32m     31\u001B[0m     \u001B[38;5;28;01mif\u001B[39;00m \u001B[38;5;28misinstance\u001B[39m(curr_dist, dtw_python_DTW):\n",
      "\u001B[1;31mTypeError\u001B[0m: argument 's': Shape Mismatch:\n from=(dim=2, dtype=Float64), to=(dim=1, dtype=Float64)"
     ]
    }
   ],
   "source": [
    "from rust_dtw import dtw as rust_dtw_dtw\n",
    "dtw_c_uni_time, dtw_dtai_uni_distances = timing_experiment(X_train_uni_d_m, rust_dtw_dtw, distance_params={\"window\": X_train_uni_d_m.shape[1], \"distance_mode\": \"euclidean\"})\n",
    "# dtw_c_multi_time, dtw_dtai_multi_distances = timing_experiment(X_train_uni_d_m, rust_dtw_dtw, distance_params={\"window\": X_train_uni_d_m.shape[1], \"distance_mode\": \"euclidean\"})\n",
    "print(dtw_c_uni_time)\n",
    "# print(dtw_c_multi_time)"
   ],
   "metadata": {
    "collapsed": false,
    "pycharm": {
     "name": "#%%\n"
    }
   }
  },
  {
   "cell_type": "code",
   "execution_count": null,
   "outputs": [],
   "source": [],
   "metadata": {
    "collapsed": false,
    "pycharm": {
     "name": "#%%\n"
    }
   }
  }
 ],
 "metadata": {
  "kernelspec": {
   "display_name": "Python 3",
   "language": "python",
   "name": "python3"
  },
  "language_info": {
   "codemirror_mode": {
    "name": "ipython",
    "version": 2
   },
   "file_extension": ".py",
   "mimetype": "text/x-python",
   "name": "python",
   "nbconvert_exporter": "python",
   "pygments_lexer": "ipython2",
   "version": "2.7.6"
  }
 },
 "nbformat": 4,
 "nbformat_minor": 0
}