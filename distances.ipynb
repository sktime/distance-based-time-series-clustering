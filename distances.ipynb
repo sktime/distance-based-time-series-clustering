{
 "cells": [
  {
   "cell_type": "code",
   "execution_count": 1,
   "outputs": [],
   "source": [
    "import time\n",
    "import warnings\n",
    "warnings.filterwarnings('ignore') # Hide warnings that can generate and clutter notebook\n",
    "\n",
    "\n",
    "def timing_experiment(x, y, distance_callable, distance_params = None, average=30):\n",
    "    \"\"\"Time the average time it takes to take the distance from the first time series\n",
    "    to all of the other time series in X.\n",
    "\n",
    "    Parameters\n",
    "    ----------\n",
    "    X: np.ndarray\n",
    "        A dataset of time series.\n",
    "    distance_callable: Callable\n",
    "        A callable that is the distance function to time.\n",
    "\n",
    "    Returns\n",
    "    -------\n",
    "    float\n",
    "        Average time it took to run a distance\n",
    "    \"\"\"\n",
    "    if distance_params is None:\n",
    "        distance_params = {}\n",
    "    total_time = 0\n",
    "    for i in range(0, average):\n",
    "        start = time.time()\n",
    "        curr_dist = distance_callable(x, y, **distance_params)\n",
    "        total_time += time.time() - start\n",
    "\n",
    "    return total_time / average\n"
   ],
   "metadata": {
    "collapsed": false,
    "pycharm": {
     "name": "#%%\n"
    }
   }
  },
  {
   "cell_type": "code",
   "execution_count": 4,
   "outputs": [],
   "source": [
    "from sktime.distances.tests._utils import create_test_distance_numpy\n",
    "\n",
    "from sktime.distances import distance_factory\n",
    "from tslearn.metrics import dtw as tslearn_dtw\n",
    "from dtw import dtw as dtw_python_dtw\n",
    "from rust_dtw import dtw as rust_dtw_dtw\n",
    "import pandas as pd\n",
    "\n",
    "sktime_timing = []\n",
    "tslearn_timing = []\n",
    "dtw_python_timing = []\n",
    "rust_dtw_timing = []\n",
    "numba_sktime_timing = []\n",
    "\n",
    "col_headers = []\n",
    "\n",
    "univariate_timings_df = None\n",
    "\n",
    "def univariate_experiment():\n",
    "    increment_timepoints = 1000\n",
    "    starting_num_timepoints = 1000\n",
    "    ending_num_timepoints = 10000\n",
    "\n",
    "    for i in range(starting_num_timepoints, ending_num_timepoints + increment_timepoints, increment_timepoints):\n",
    "        col_headers.append(i)\n",
    "        distance_m_d = create_test_distance_numpy(2, 1, i)\n",
    "\n",
    "        x = distance_m_d[0][0]\n",
    "        y = distance_m_d[1][0]\n",
    "        numba_sktime = distance_factory(x, y, metric='dtw')\n",
    "\n",
    "        tslearn_time = timing_experiment(x, y, tslearn_dtw)\n",
    "        dtw_python_time = timing_experiment(x, y, dtw_python_dtw)\n",
    "        rust_dtw_time = timing_experiment(x, y, rust_dtw_dtw, {'window':i, 'distance_mode': 'euclidean'})\n",
    "        sktime_time = timing_experiment(distance_m_d[0], distance_m_d[1], numba_sktime)\n",
    "\n",
    "        sktime_timing.append(sktime_time)\n",
    "        tslearn_timing.append(tslearn_time)\n",
    "        dtw_python_timing.append(dtw_python_time)\n",
    "        rust_dtw_timing.append(rust_dtw_time)\n",
    "\n",
    "\n",
    "    uni_df = pd.DataFrame({\n",
    "        'time points': col_headers,\n",
    "        'sktime': sktime_timing,\n",
    "        'tslearn': tslearn_timing,\n",
    "        'rust-dtw': rust_dtw_timing,\n",
    "        'dtw-python': dtw_python_timing\n",
    "    })\n",
    "    return uni_df\n",
    "\n",
    "univariate_timings_df = univariate_experiment()"
   ],
   "metadata": {
    "collapsed": false,
    "pycharm": {
     "name": "#%%\n"
    }
   }
  },
  {
   "cell_type": "code",
   "execution_count": 11,
   "outputs": [],
   "source": [
    "from sktime.distances.tests._utils import create_test_distance_numpy\n",
    "\n",
    "from sktime.distances import distance_factory\n",
    "from tslearn.metrics import dtw as tslearn_dtw\n",
    "import pandas as pd\n",
    "\n",
    "multivariate_timings_df = None\n",
    "\n",
    "sktime_timing = []\n",
    "tslearn_timing = []\n",
    "\n",
    "col_headers = []\n",
    "\n",
    "def multivariate_experiment():\n",
    "    increment_timepoints = 100\n",
    "    starting_num_timepoints = 100\n",
    "    ending_num_timepoints = 500\n",
    "\n",
    "    for i in range(starting_num_timepoints, ending_num_timepoints + increment_timepoints, increment_timepoints):\n",
    "        col_headers.append(i)\n",
    "        distance_m_d = create_test_distance_numpy(2, i, i)\n",
    "\n",
    "        x = distance_m_d[0]\n",
    "        y = distance_m_d[1]\n",
    "        tslearn_x = x.reshape((x.shape[1], x.shape[0])) # tslearn wants m, d format\n",
    "        tslearn_y = y.reshape((y.shape[1], y.shape[0])) # tslearn wants m, d format\n",
    "        numba_sktime = distance_factory(x, y, metric='dtw')\n",
    "\n",
    "        tslearn_time = timing_experiment(tslearn_x, tslearn_y, tslearn_dtw)\n",
    "        sktime_time = timing_experiment(x, y, numba_sktime)\n",
    "\n",
    "        sktime_timing.append(sktime_time)\n",
    "        tslearn_timing.append(tslearn_time)\n",
    "\n",
    "\n",
    "    multi_df = pd.DataFrame({\n",
    "        'time points': col_headers,\n",
    "        'sktime': sktime_timing,\n",
    "        'tslearn': tslearn_timing,\n",
    "    })\n",
    "    return multi_df\n",
    "\n",
    "multivariate_timings_df = multivariate_experiment()"
   ],
   "metadata": {
    "collapsed": false,
    "pycharm": {
     "name": "#%%\n"
    }
   }
  },
  {
   "cell_type": "code",
   "execution_count": 18,
   "outputs": [
    {
     "name": "stdout",
     "output_type": "stream",
     "text": [
      "   time points    sktime   tslearn  rust-dtw  dtw-python\n",
      "0         1000  0.014600  0.007733  0.006067    0.037633\n",
      "1         2000  0.040167  0.033200  0.025167    0.146033\n",
      "2         3000  0.083433  0.073533  0.056967    0.325900\n",
      "3         4000  0.148467  0.133500  0.103133    0.583167\n",
      "4         5000  0.223367  0.217200  0.158433    0.919367\n",
      "5         6000  0.321967  0.303000  0.230767    1.296900\n",
      "6         7000  0.433367  0.396533  0.315900    1.743367\n",
      "7         8000  0.599733  0.505367  0.404708    2.274967\n",
      "8         9000  0.729467  0.664900  0.521933    2.959800\n",
      "9        10000  0.897800  0.822767  0.643067    3.653133\n"
     ]
    }
   ],
   "source": [
    "print(univariate_timings_df)"
   ],
   "metadata": {
    "collapsed": false,
    "pycharm": {
     "name": "#%%\n"
    }
   }
  },
  {
   "cell_type": "code",
   "execution_count": 19,
   "outputs": [
    {
     "name": "stdout",
     "output_type": "stream",
     "text": [
      "   time points    sktime   tslearn\n",
      "0          100  0.004700  0.000667\n",
      "1          200  0.012967  0.005467\n",
      "2          300  0.038467  0.017950\n",
      "3          400  0.087000  0.042933\n",
      "4          500  0.204400  0.084633\n"
     ]
    }
   ],
   "source": [
    "print(multivariate_timings_df)"
   ],
   "metadata": {
    "collapsed": false,
    "pycharm": {
     "name": "#%%\n"
    }
   }
  },
  {
   "cell_type": "code",
   "execution_count": null,
   "outputs": [],
   "source": [],
   "metadata": {
    "collapsed": false,
    "pycharm": {
     "name": "#%%\n"
    }
   }
  }
 ],
 "metadata": {
  "kernelspec": {
   "display_name": "Python 3",
   "language": "python",
   "name": "python3"
  },
  "language_info": {
   "codemirror_mode": {
    "name": "ipython",
    "version": 2
   },
   "file_extension": ".py",
   "mimetype": "text/x-python",
   "name": "python",
   "nbconvert_exporter": "python",
   "pygments_lexer": "ipython2",
   "version": "2.7.6"
  }
 },
 "nbformat": 4,
 "nbformat_minor": 0
}