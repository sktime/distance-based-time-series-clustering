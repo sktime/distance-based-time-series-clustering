{
 "cells": [
  {
   "cell_type": "code",
   "execution_count": 3,
   "outputs": [],
   "source": [
    "from sktime.benchmarking.experiments import run_clustering_experiment\n",
    "from sktime.datasets import load_acsf1\n",
    "from sktime.clustering.k_means import TimeSeriesKMeans\n",
    "\n",
    "X_train, y_train = load_acsf1(split='train')\n",
    "X_test, y_test = load_acsf1(split='test')\n",
    "\n",
    "k_means_clusterer = TimeSeriesKMeans(\n",
    "    n_clusters=10, # Set to 10 as num classes is 10\n",
    "    metric='euclidean',\n",
    ")\n",
    "\n",
    "run_clustering_experiment(\n",
    "    X_train,\n",
    "    k_means_clusterer,\n",
    "    results_path = \"./example-notebook-results\" ,\n",
    "    trainY = y_train,\n",
    "    testX = X_test,\n",
    "    testY = y_test,\n",
    "    cls_name = \"kmeans\",\n",
    "    dataset_name = \"acsf1\",\n",
    "    resample_id = 0,\n",
    "    overwrite = False,\n",
    ")"
   ],
   "metadata": {
    "collapsed": false,
    "pycharm": {
     "name": "#%%\n"
    }
   }
  },
  {
   "cell_type": "code",
   "execution_count": null,
   "outputs": [],
   "source": [],
   "metadata": {
    "collapsed": false,
    "pycharm": {
     "name": "#%%\n"
    }
   }
  }
 ],
 "metadata": {
  "kernelspec": {
   "display_name": "Python 3",
   "language": "python",
   "name": "python3"
  },
  "language_info": {
   "codemirror_mode": {
    "name": "ipython",
    "version": 2
   },
   "file_extension": ".py",
   "mimetype": "text/x-python",
   "name": "python",
   "nbconvert_exporter": "python",
   "pygments_lexer": "ipython2",
   "version": "2.7.6"
  }
 },
 "nbformat": 4,
 "nbformat_minor": 0
}